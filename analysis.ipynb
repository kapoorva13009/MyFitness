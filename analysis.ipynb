{
 "cells": [
  {
   "cell_type": "code",
   "execution_count": 39,
   "id": "4ae394a4",
   "metadata": {},
   "outputs": [],
   "source": [
    "import pandas as pd"
   ]
  },
  {
   "cell_type": "code",
   "execution_count": 40,
   "id": "b6a5c90e",
   "metadata": {},
   "outputs": [],
   "source": [
    "df  = pd.read_csv(\"Takeout/Fit/Daily activity metrics/Daily activity metrics.csv\")"
   ]
  },
  {
   "cell_type": "code",
   "execution_count": 41,
   "id": "763d07d3",
   "metadata": {},
   "outputs": [
    {
     "data": {
      "text/html": [
       "<div>\n",
       "<style scoped>\n",
       "    .dataframe tbody tr th:only-of-type {\n",
       "        vertical-align: middle;\n",
       "    }\n",
       "\n",
       "    .dataframe tbody tr th {\n",
       "        vertical-align: top;\n",
       "    }\n",
       "\n",
       "    .dataframe thead th {\n",
       "        text-align: right;\n",
       "    }\n",
       "</style>\n",
       "<table border=\"1\" class=\"dataframe\">\n",
       "  <thead>\n",
       "    <tr style=\"text-align: right;\">\n",
       "      <th></th>\n",
       "      <th>Date</th>\n",
       "      <th>Move Minutes count</th>\n",
       "      <th>Calories (kcal)</th>\n",
       "      <th>Distance (m)</th>\n",
       "      <th>Heart Points</th>\n",
       "      <th>Heart Minutes</th>\n",
       "      <th>Average heart rate (bpm)</th>\n",
       "      <th>Max heart rate (bpm)</th>\n",
       "      <th>Min heart rate (bpm)</th>\n",
       "      <th>Low latitude (deg)</th>\n",
       "      <th>...</th>\n",
       "      <th>Average speed (m/s)</th>\n",
       "      <th>Max speed (m/s)</th>\n",
       "      <th>Min speed (m/s)</th>\n",
       "      <th>Step count</th>\n",
       "      <th>Average weight (kg)</th>\n",
       "      <th>Max weight (kg)</th>\n",
       "      <th>Min weight (kg)</th>\n",
       "      <th>Biking duration (ms)</th>\n",
       "      <th>Walking duration (ms)</th>\n",
       "      <th>Running duration (ms)</th>\n",
       "    </tr>\n",
       "  </thead>\n",
       "  <tbody>\n",
       "    <tr>\n",
       "      <th>0</th>\n",
       "      <td>2021-09-16</td>\n",
       "      <td>7.0</td>\n",
       "      <td>41.903859</td>\n",
       "      <td>425.324791</td>\n",
       "      <td>3.0</td>\n",
       "      <td>3.0</td>\n",
       "      <td>NaN</td>\n",
       "      <td>NaN</td>\n",
       "      <td>NaN</td>\n",
       "      <td>NaN</td>\n",
       "      <td>...</td>\n",
       "      <td>1.099972</td>\n",
       "      <td>1.202604</td>\n",
       "      <td>0.888417</td>\n",
       "      <td>643.0</td>\n",
       "      <td>NaN</td>\n",
       "      <td>NaN</td>\n",
       "      <td>NaN</td>\n",
       "      <td>NaN</td>\n",
       "      <td>446407.0</td>\n",
       "      <td>NaN</td>\n",
       "    </tr>\n",
       "    <tr>\n",
       "      <th>1</th>\n",
       "      <td>2021-09-22</td>\n",
       "      <td>2.0</td>\n",
       "      <td>NaN</td>\n",
       "      <td>45.950287</td>\n",
       "      <td>NaN</td>\n",
       "      <td>NaN</td>\n",
       "      <td>NaN</td>\n",
       "      <td>NaN</td>\n",
       "      <td>NaN</td>\n",
       "      <td>NaN</td>\n",
       "      <td>...</td>\n",
       "      <td>0.631319</td>\n",
       "      <td>0.631319</td>\n",
       "      <td>0.631319</td>\n",
       "      <td>86.0</td>\n",
       "      <td>NaN</td>\n",
       "      <td>NaN</td>\n",
       "      <td>NaN</td>\n",
       "      <td>NaN</td>\n",
       "      <td>NaN</td>\n",
       "      <td>NaN</td>\n",
       "    </tr>\n",
       "    <tr>\n",
       "      <th>2</th>\n",
       "      <td>2025-03-07</td>\n",
       "      <td>NaN</td>\n",
       "      <td>1028.283893</td>\n",
       "      <td>NaN</td>\n",
       "      <td>NaN</td>\n",
       "      <td>NaN</td>\n",
       "      <td>NaN</td>\n",
       "      <td>NaN</td>\n",
       "      <td>NaN</td>\n",
       "      <td>NaN</td>\n",
       "      <td>...</td>\n",
       "      <td>NaN</td>\n",
       "      <td>NaN</td>\n",
       "      <td>NaN</td>\n",
       "      <td>NaN</td>\n",
       "      <td>NaN</td>\n",
       "      <td>NaN</td>\n",
       "      <td>NaN</td>\n",
       "      <td>NaN</td>\n",
       "      <td>NaN</td>\n",
       "      <td>NaN</td>\n",
       "    </tr>\n",
       "    <tr>\n",
       "      <th>3</th>\n",
       "      <td>2025-03-08</td>\n",
       "      <td>NaN</td>\n",
       "      <td>1589.499985</td>\n",
       "      <td>NaN</td>\n",
       "      <td>NaN</td>\n",
       "      <td>NaN</td>\n",
       "      <td>NaN</td>\n",
       "      <td>NaN</td>\n",
       "      <td>NaN</td>\n",
       "      <td>NaN</td>\n",
       "      <td>...</td>\n",
       "      <td>NaN</td>\n",
       "      <td>NaN</td>\n",
       "      <td>NaN</td>\n",
       "      <td>NaN</td>\n",
       "      <td>NaN</td>\n",
       "      <td>NaN</td>\n",
       "      <td>NaN</td>\n",
       "      <td>NaN</td>\n",
       "      <td>NaN</td>\n",
       "      <td>NaN</td>\n",
       "    </tr>\n",
       "    <tr>\n",
       "      <th>4</th>\n",
       "      <td>2025-03-09</td>\n",
       "      <td>39.0</td>\n",
       "      <td>1668.749025</td>\n",
       "      <td>2471.957810</td>\n",
       "      <td>16.0</td>\n",
       "      <td>16.0</td>\n",
       "      <td>NaN</td>\n",
       "      <td>NaN</td>\n",
       "      <td>NaN</td>\n",
       "      <td>NaN</td>\n",
       "      <td>...</td>\n",
       "      <td>0.404399</td>\n",
       "      <td>1.621773</td>\n",
       "      <td>0.254423</td>\n",
       "      <td>3232.0</td>\n",
       "      <td>63.0</td>\n",
       "      <td>63.0</td>\n",
       "      <td>63.0</td>\n",
       "      <td>NaN</td>\n",
       "      <td>1409719.0</td>\n",
       "      <td>101347.0</td>\n",
       "    </tr>\n",
       "  </tbody>\n",
       "</table>\n",
       "<p>5 rows × 23 columns</p>\n",
       "</div>"
      ],
      "text/plain": [
       "         Date  Move Minutes count  Calories (kcal)  Distance (m)  \\\n",
       "0  2021-09-16                 7.0        41.903859    425.324791   \n",
       "1  2021-09-22                 2.0              NaN     45.950287   \n",
       "2  2025-03-07                 NaN      1028.283893           NaN   \n",
       "3  2025-03-08                 NaN      1589.499985           NaN   \n",
       "4  2025-03-09                39.0      1668.749025   2471.957810   \n",
       "\n",
       "   Heart Points  Heart Minutes  Average heart rate (bpm)  \\\n",
       "0           3.0            3.0                       NaN   \n",
       "1           NaN            NaN                       NaN   \n",
       "2           NaN            NaN                       NaN   \n",
       "3           NaN            NaN                       NaN   \n",
       "4          16.0           16.0                       NaN   \n",
       "\n",
       "   Max heart rate (bpm)  Min heart rate (bpm)  Low latitude (deg)  ...  \\\n",
       "0                   NaN                   NaN                 NaN  ...   \n",
       "1                   NaN                   NaN                 NaN  ...   \n",
       "2                   NaN                   NaN                 NaN  ...   \n",
       "3                   NaN                   NaN                 NaN  ...   \n",
       "4                   NaN                   NaN                 NaN  ...   \n",
       "\n",
       "   Average speed (m/s)  Max speed (m/s)  Min speed (m/s)  Step count  \\\n",
       "0             1.099972         1.202604         0.888417       643.0   \n",
       "1             0.631319         0.631319         0.631319        86.0   \n",
       "2                  NaN              NaN              NaN         NaN   \n",
       "3                  NaN              NaN              NaN         NaN   \n",
       "4             0.404399         1.621773         0.254423      3232.0   \n",
       "\n",
       "   Average weight (kg)  Max weight (kg)  Min weight (kg)  \\\n",
       "0                  NaN              NaN              NaN   \n",
       "1                  NaN              NaN              NaN   \n",
       "2                  NaN              NaN              NaN   \n",
       "3                  NaN              NaN              NaN   \n",
       "4                 63.0             63.0             63.0   \n",
       "\n",
       "   Biking duration (ms)  Walking duration (ms)  Running duration (ms)  \n",
       "0                   NaN               446407.0                    NaN  \n",
       "1                   NaN                    NaN                    NaN  \n",
       "2                   NaN                    NaN                    NaN  \n",
       "3                   NaN                    NaN                    NaN  \n",
       "4                   NaN              1409719.0               101347.0  \n",
       "\n",
       "[5 rows x 23 columns]"
      ]
     },
     "execution_count": 41,
     "metadata": {},
     "output_type": "execute_result"
    }
   ],
   "source": [
    "df.head(5)"
   ]
  },
  {
   "cell_type": "code",
   "execution_count": 42,
   "id": "d28189a9",
   "metadata": {},
   "outputs": [],
   "source": [
    "df.fillna(0, inplace=True)"
   ]
  },
  {
   "cell_type": "code",
   "execution_count": 43,
   "id": "b7b8c815",
   "metadata": {},
   "outputs": [
    {
     "data": {
      "text/html": [
       "<div>\n",
       "<style scoped>\n",
       "    .dataframe tbody tr th:only-of-type {\n",
       "        vertical-align: middle;\n",
       "    }\n",
       "\n",
       "    .dataframe tbody tr th {\n",
       "        vertical-align: top;\n",
       "    }\n",
       "\n",
       "    .dataframe thead th {\n",
       "        text-align: right;\n",
       "    }\n",
       "</style>\n",
       "<table border=\"1\" class=\"dataframe\">\n",
       "  <thead>\n",
       "    <tr style=\"text-align: right;\">\n",
       "      <th></th>\n",
       "      <th>Date</th>\n",
       "      <th>Move Minutes count</th>\n",
       "      <th>Calories (kcal)</th>\n",
       "      <th>Distance (m)</th>\n",
       "      <th>Heart Points</th>\n",
       "      <th>Heart Minutes</th>\n",
       "      <th>Average heart rate (bpm)</th>\n",
       "      <th>Max heart rate (bpm)</th>\n",
       "      <th>Min heart rate (bpm)</th>\n",
       "      <th>Low latitude (deg)</th>\n",
       "      <th>...</th>\n",
       "      <th>Average speed (m/s)</th>\n",
       "      <th>Max speed (m/s)</th>\n",
       "      <th>Min speed (m/s)</th>\n",
       "      <th>Step count</th>\n",
       "      <th>Average weight (kg)</th>\n",
       "      <th>Max weight (kg)</th>\n",
       "      <th>Min weight (kg)</th>\n",
       "      <th>Biking duration (ms)</th>\n",
       "      <th>Walking duration (ms)</th>\n",
       "      <th>Running duration (ms)</th>\n",
       "    </tr>\n",
       "  </thead>\n",
       "  <tbody>\n",
       "    <tr>\n",
       "      <th>0</th>\n",
       "      <td>2021-09-16</td>\n",
       "      <td>7.0</td>\n",
       "      <td>41.903859</td>\n",
       "      <td>425.324791</td>\n",
       "      <td>3.0</td>\n",
       "      <td>3.0</td>\n",
       "      <td>0.0</td>\n",
       "      <td>0.0</td>\n",
       "      <td>0.0</td>\n",
       "      <td>0.0</td>\n",
       "      <td>...</td>\n",
       "      <td>1.099972</td>\n",
       "      <td>1.202604</td>\n",
       "      <td>0.888417</td>\n",
       "      <td>643.0</td>\n",
       "      <td>0.0</td>\n",
       "      <td>0.0</td>\n",
       "      <td>0.0</td>\n",
       "      <td>0.0</td>\n",
       "      <td>446407.0</td>\n",
       "      <td>0.0</td>\n",
       "    </tr>\n",
       "    <tr>\n",
       "      <th>1</th>\n",
       "      <td>2021-09-22</td>\n",
       "      <td>2.0</td>\n",
       "      <td>0.000000</td>\n",
       "      <td>45.950287</td>\n",
       "      <td>0.0</td>\n",
       "      <td>0.0</td>\n",
       "      <td>0.0</td>\n",
       "      <td>0.0</td>\n",
       "      <td>0.0</td>\n",
       "      <td>0.0</td>\n",
       "      <td>...</td>\n",
       "      <td>0.631319</td>\n",
       "      <td>0.631319</td>\n",
       "      <td>0.631319</td>\n",
       "      <td>86.0</td>\n",
       "      <td>0.0</td>\n",
       "      <td>0.0</td>\n",
       "      <td>0.0</td>\n",
       "      <td>0.0</td>\n",
       "      <td>0.0</td>\n",
       "      <td>0.0</td>\n",
       "    </tr>\n",
       "    <tr>\n",
       "      <th>2</th>\n",
       "      <td>2025-03-07</td>\n",
       "      <td>0.0</td>\n",
       "      <td>1028.283893</td>\n",
       "      <td>0.000000</td>\n",
       "      <td>0.0</td>\n",
       "      <td>0.0</td>\n",
       "      <td>0.0</td>\n",
       "      <td>0.0</td>\n",
       "      <td>0.0</td>\n",
       "      <td>0.0</td>\n",
       "      <td>...</td>\n",
       "      <td>0.000000</td>\n",
       "      <td>0.000000</td>\n",
       "      <td>0.000000</td>\n",
       "      <td>0.0</td>\n",
       "      <td>0.0</td>\n",
       "      <td>0.0</td>\n",
       "      <td>0.0</td>\n",
       "      <td>0.0</td>\n",
       "      <td>0.0</td>\n",
       "      <td>0.0</td>\n",
       "    </tr>\n",
       "    <tr>\n",
       "      <th>3</th>\n",
       "      <td>2025-03-08</td>\n",
       "      <td>0.0</td>\n",
       "      <td>1589.499985</td>\n",
       "      <td>0.000000</td>\n",
       "      <td>0.0</td>\n",
       "      <td>0.0</td>\n",
       "      <td>0.0</td>\n",
       "      <td>0.0</td>\n",
       "      <td>0.0</td>\n",
       "      <td>0.0</td>\n",
       "      <td>...</td>\n",
       "      <td>0.000000</td>\n",
       "      <td>0.000000</td>\n",
       "      <td>0.000000</td>\n",
       "      <td>0.0</td>\n",
       "      <td>0.0</td>\n",
       "      <td>0.0</td>\n",
       "      <td>0.0</td>\n",
       "      <td>0.0</td>\n",
       "      <td>0.0</td>\n",
       "      <td>0.0</td>\n",
       "    </tr>\n",
       "    <tr>\n",
       "      <th>4</th>\n",
       "      <td>2025-03-09</td>\n",
       "      <td>39.0</td>\n",
       "      <td>1668.749025</td>\n",
       "      <td>2471.957810</td>\n",
       "      <td>16.0</td>\n",
       "      <td>16.0</td>\n",
       "      <td>0.0</td>\n",
       "      <td>0.0</td>\n",
       "      <td>0.0</td>\n",
       "      <td>0.0</td>\n",
       "      <td>...</td>\n",
       "      <td>0.404399</td>\n",
       "      <td>1.621773</td>\n",
       "      <td>0.254423</td>\n",
       "      <td>3232.0</td>\n",
       "      <td>63.0</td>\n",
       "      <td>63.0</td>\n",
       "      <td>63.0</td>\n",
       "      <td>0.0</td>\n",
       "      <td>1409719.0</td>\n",
       "      <td>101347.0</td>\n",
       "    </tr>\n",
       "  </tbody>\n",
       "</table>\n",
       "<p>5 rows × 23 columns</p>\n",
       "</div>"
      ],
      "text/plain": [
       "         Date  Move Minutes count  Calories (kcal)  Distance (m)  \\\n",
       "0  2021-09-16                 7.0        41.903859    425.324791   \n",
       "1  2021-09-22                 2.0         0.000000     45.950287   \n",
       "2  2025-03-07                 0.0      1028.283893      0.000000   \n",
       "3  2025-03-08                 0.0      1589.499985      0.000000   \n",
       "4  2025-03-09                39.0      1668.749025   2471.957810   \n",
       "\n",
       "   Heart Points  Heart Minutes  Average heart rate (bpm)  \\\n",
       "0           3.0            3.0                       0.0   \n",
       "1           0.0            0.0                       0.0   \n",
       "2           0.0            0.0                       0.0   \n",
       "3           0.0            0.0                       0.0   \n",
       "4          16.0           16.0                       0.0   \n",
       "\n",
       "   Max heart rate (bpm)  Min heart rate (bpm)  Low latitude (deg)  ...  \\\n",
       "0                   0.0                   0.0                 0.0  ...   \n",
       "1                   0.0                   0.0                 0.0  ...   \n",
       "2                   0.0                   0.0                 0.0  ...   \n",
       "3                   0.0                   0.0                 0.0  ...   \n",
       "4                   0.0                   0.0                 0.0  ...   \n",
       "\n",
       "   Average speed (m/s)  Max speed (m/s)  Min speed (m/s)  Step count  \\\n",
       "0             1.099972         1.202604         0.888417       643.0   \n",
       "1             0.631319         0.631319         0.631319        86.0   \n",
       "2             0.000000         0.000000         0.000000         0.0   \n",
       "3             0.000000         0.000000         0.000000         0.0   \n",
       "4             0.404399         1.621773         0.254423      3232.0   \n",
       "\n",
       "   Average weight (kg)  Max weight (kg)  Min weight (kg)  \\\n",
       "0                  0.0              0.0              0.0   \n",
       "1                  0.0              0.0              0.0   \n",
       "2                  0.0              0.0              0.0   \n",
       "3                  0.0              0.0              0.0   \n",
       "4                 63.0             63.0             63.0   \n",
       "\n",
       "   Biking duration (ms)  Walking duration (ms)  Running duration (ms)  \n",
       "0                   0.0               446407.0                    0.0  \n",
       "1                   0.0                    0.0                    0.0  \n",
       "2                   0.0                    0.0                    0.0  \n",
       "3                   0.0                    0.0                    0.0  \n",
       "4                   0.0              1409719.0               101347.0  \n",
       "\n",
       "[5 rows x 23 columns]"
      ]
     },
     "execution_count": 43,
     "metadata": {},
     "output_type": "execute_result"
    }
   ],
   "source": [
    "df.head(5)"
   ]
  },
  {
   "cell_type": "code",
   "execution_count": 44,
   "id": "55ccb500",
   "metadata": {},
   "outputs": [
    {
     "data": {
      "text/html": [
       "<div>\n",
       "<style scoped>\n",
       "    .dataframe tbody tr th:only-of-type {\n",
       "        vertical-align: middle;\n",
       "    }\n",
       "\n",
       "    .dataframe tbody tr th {\n",
       "        vertical-align: top;\n",
       "    }\n",
       "\n",
       "    .dataframe thead th {\n",
       "        text-align: right;\n",
       "    }\n",
       "</style>\n",
       "<table border=\"1\" class=\"dataframe\">\n",
       "  <thead>\n",
       "    <tr style=\"text-align: right;\">\n",
       "      <th></th>\n",
       "      <th>Move Minutes count</th>\n",
       "      <th>Calories (kcal)</th>\n",
       "      <th>Distance (m)</th>\n",
       "      <th>Heart Points</th>\n",
       "      <th>Heart Minutes</th>\n",
       "      <th>Average heart rate (bpm)</th>\n",
       "      <th>Max heart rate (bpm)</th>\n",
       "      <th>Min heart rate (bpm)</th>\n",
       "      <th>Low latitude (deg)</th>\n",
       "      <th>Low longitude (deg)</th>\n",
       "      <th>...</th>\n",
       "      <th>Average speed (m/s)</th>\n",
       "      <th>Max speed (m/s)</th>\n",
       "      <th>Min speed (m/s)</th>\n",
       "      <th>Step count</th>\n",
       "      <th>Average weight (kg)</th>\n",
       "      <th>Max weight (kg)</th>\n",
       "      <th>Min weight (kg)</th>\n",
       "      <th>Biking duration (ms)</th>\n",
       "      <th>Walking duration (ms)</th>\n",
       "      <th>Running duration (ms)</th>\n",
       "    </tr>\n",
       "  </thead>\n",
       "  <tbody>\n",
       "    <tr>\n",
       "      <th>count</th>\n",
       "      <td>126.000000</td>\n",
       "      <td>126.000000</td>\n",
       "      <td>126.000000</td>\n",
       "      <td>126.000000</td>\n",
       "      <td>126.000000</td>\n",
       "      <td>126.000000</td>\n",
       "      <td>126.000000</td>\n",
       "      <td>126.000000</td>\n",
       "      <td>126.000000</td>\n",
       "      <td>126.000000</td>\n",
       "      <td>...</td>\n",
       "      <td>126.000000</td>\n",
       "      <td>126.000000</td>\n",
       "      <td>126.000000</td>\n",
       "      <td>126.000000</td>\n",
       "      <td>126.000000</td>\n",
       "      <td>126.000000</td>\n",
       "      <td>126.000000</td>\n",
       "      <td>126.000000</td>\n",
       "      <td>1.260000e+02</td>\n",
       "      <td>1.260000e+02</td>\n",
       "    </tr>\n",
       "    <tr>\n",
       "      <th>mean</th>\n",
       "      <td>51.912698</td>\n",
       "      <td>1681.113785</td>\n",
       "      <td>3733.696564</td>\n",
       "      <td>25.206349</td>\n",
       "      <td>24.309524</td>\n",
       "      <td>8.441954</td>\n",
       "      <td>10.293651</td>\n",
       "      <td>6.531746</td>\n",
       "      <td>0.269888</td>\n",
       "      <td>0.593381</td>\n",
       "      <td>...</td>\n",
       "      <td>0.553168</td>\n",
       "      <td>1.598505</td>\n",
       "      <td>0.272187</td>\n",
       "      <td>4808.619048</td>\n",
       "      <td>0.500000</td>\n",
       "      <td>0.500000</td>\n",
       "      <td>0.500000</td>\n",
       "      <td>5422.746032</td>\n",
       "      <td>2.468148e+06</td>\n",
       "      <td>4.899067e+04</td>\n",
       "    </tr>\n",
       "    <tr>\n",
       "      <th>std</th>\n",
       "      <td>40.867986</td>\n",
       "      <td>254.480040</td>\n",
       "      <td>3043.634584</td>\n",
       "      <td>27.213913</td>\n",
       "      <td>25.324285</td>\n",
       "      <td>27.607991</td>\n",
       "      <td>33.751342</td>\n",
       "      <td>21.420621</td>\n",
       "      <td>3.029480</td>\n",
       "      <td>6.660687</td>\n",
       "      <td>...</td>\n",
       "      <td>0.204999</td>\n",
       "      <td>0.605025</td>\n",
       "      <td>0.102573</td>\n",
       "      <td>3799.116585</td>\n",
       "      <td>5.612486</td>\n",
       "      <td>5.612486</td>\n",
       "      <td>5.612486</td>\n",
       "      <td>60870.173239</td>\n",
       "      <td>2.033569e+06</td>\n",
       "      <td>1.577485e+05</td>\n",
       "    </tr>\n",
       "    <tr>\n",
       "      <th>min</th>\n",
       "      <td>0.000000</td>\n",
       "      <td>0.000000</td>\n",
       "      <td>0.000000</td>\n",
       "      <td>0.000000</td>\n",
       "      <td>0.000000</td>\n",
       "      <td>0.000000</td>\n",
       "      <td>0.000000</td>\n",
       "      <td>0.000000</td>\n",
       "      <td>0.000000</td>\n",
       "      <td>0.000000</td>\n",
       "      <td>...</td>\n",
       "      <td>0.000000</td>\n",
       "      <td>0.000000</td>\n",
       "      <td>0.000000</td>\n",
       "      <td>0.000000</td>\n",
       "      <td>0.000000</td>\n",
       "      <td>0.000000</td>\n",
       "      <td>0.000000</td>\n",
       "      <td>0.000000</td>\n",
       "      <td>0.000000e+00</td>\n",
       "      <td>0.000000e+00</td>\n",
       "    </tr>\n",
       "    <tr>\n",
       "      <th>25%</th>\n",
       "      <td>15.500000</td>\n",
       "      <td>1616.868225</td>\n",
       "      <td>933.219301</td>\n",
       "      <td>0.250000</td>\n",
       "      <td>0.250000</td>\n",
       "      <td>0.000000</td>\n",
       "      <td>0.000000</td>\n",
       "      <td>0.000000</td>\n",
       "      <td>0.000000</td>\n",
       "      <td>0.000000</td>\n",
       "      <td>...</td>\n",
       "      <td>0.472321</td>\n",
       "      <td>1.373197</td>\n",
       "      <td>0.254423</td>\n",
       "      <td>1325.250000</td>\n",
       "      <td>0.000000</td>\n",
       "      <td>0.000000</td>\n",
       "      <td>0.000000</td>\n",
       "      <td>0.000000</td>\n",
       "      <td>6.278075e+05</td>\n",
       "      <td>0.000000e+00</td>\n",
       "    </tr>\n",
       "    <tr>\n",
       "      <th>50%</th>\n",
       "      <td>47.000000</td>\n",
       "      <td>1704.206403</td>\n",
       "      <td>3150.018897</td>\n",
       "      <td>15.000000</td>\n",
       "      <td>15.000000</td>\n",
       "      <td>0.000000</td>\n",
       "      <td>0.000000</td>\n",
       "      <td>0.000000</td>\n",
       "      <td>0.000000</td>\n",
       "      <td>0.000000</td>\n",
       "      <td>...</td>\n",
       "      <td>0.539924</td>\n",
       "      <td>1.688122</td>\n",
       "      <td>0.264507</td>\n",
       "      <td>4171.000000</td>\n",
       "      <td>0.000000</td>\n",
       "      <td>0.000000</td>\n",
       "      <td>0.000000</td>\n",
       "      <td>0.000000</td>\n",
       "      <td>2.284878e+06</td>\n",
       "      <td>0.000000e+00</td>\n",
       "    </tr>\n",
       "    <tr>\n",
       "      <th>75%</th>\n",
       "      <td>73.000000</td>\n",
       "      <td>1784.953386</td>\n",
       "      <td>5872.767264</td>\n",
       "      <td>47.000000</td>\n",
       "      <td>46.000000</td>\n",
       "      <td>0.000000</td>\n",
       "      <td>0.000000</td>\n",
       "      <td>0.000000</td>\n",
       "      <td>0.000000</td>\n",
       "      <td>0.000000</td>\n",
       "      <td>...</td>\n",
       "      <td>0.634514</td>\n",
       "      <td>1.900121</td>\n",
       "      <td>0.278653</td>\n",
       "      <td>7242.750000</td>\n",
       "      <td>0.000000</td>\n",
       "      <td>0.000000</td>\n",
       "      <td>0.000000</td>\n",
       "      <td>0.000000</td>\n",
       "      <td>3.833795e+06</td>\n",
       "      <td>0.000000e+00</td>\n",
       "    </tr>\n",
       "    <tr>\n",
       "      <th>max</th>\n",
       "      <td>175.000000</td>\n",
       "      <td>1979.329996</td>\n",
       "      <td>11921.900285</td>\n",
       "      <td>146.000000</td>\n",
       "      <td>103.000000</td>\n",
       "      <td>118.531915</td>\n",
       "      <td>137.000000</td>\n",
       "      <td>89.000000</td>\n",
       "      <td>34.005833</td>\n",
       "      <td>74.766029</td>\n",
       "      <td>...</td>\n",
       "      <td>1.321909</td>\n",
       "      <td>3.133387</td>\n",
       "      <td>0.888417</td>\n",
       "      <td>15070.000000</td>\n",
       "      <td>63.000000</td>\n",
       "      <td>63.000000</td>\n",
       "      <td>63.000000</td>\n",
       "      <td>683266.000000</td>\n",
       "      <td>7.790989e+06</td>\n",
       "      <td>1.238915e+06</td>\n",
       "    </tr>\n",
       "  </tbody>\n",
       "</table>\n",
       "<p>8 rows × 22 columns</p>\n",
       "</div>"
      ],
      "text/plain": [
       "       Move Minutes count  Calories (kcal)  Distance (m)  Heart Points  \\\n",
       "count          126.000000       126.000000    126.000000    126.000000   \n",
       "mean            51.912698      1681.113785   3733.696564     25.206349   \n",
       "std             40.867986       254.480040   3043.634584     27.213913   \n",
       "min              0.000000         0.000000      0.000000      0.000000   \n",
       "25%             15.500000      1616.868225    933.219301      0.250000   \n",
       "50%             47.000000      1704.206403   3150.018897     15.000000   \n",
       "75%             73.000000      1784.953386   5872.767264     47.000000   \n",
       "max            175.000000      1979.329996  11921.900285    146.000000   \n",
       "\n",
       "       Heart Minutes  Average heart rate (bpm)  Max heart rate (bpm)  \\\n",
       "count     126.000000                126.000000            126.000000   \n",
       "mean       24.309524                  8.441954             10.293651   \n",
       "std        25.324285                 27.607991             33.751342   \n",
       "min         0.000000                  0.000000              0.000000   \n",
       "25%         0.250000                  0.000000              0.000000   \n",
       "50%        15.000000                  0.000000              0.000000   \n",
       "75%        46.000000                  0.000000              0.000000   \n",
       "max       103.000000                118.531915            137.000000   \n",
       "\n",
       "       Min heart rate (bpm)  Low latitude (deg)  Low longitude (deg)  ...  \\\n",
       "count            126.000000          126.000000           126.000000  ...   \n",
       "mean               6.531746            0.269888             0.593381  ...   \n",
       "std               21.420621            3.029480             6.660687  ...   \n",
       "min                0.000000            0.000000             0.000000  ...   \n",
       "25%                0.000000            0.000000             0.000000  ...   \n",
       "50%                0.000000            0.000000             0.000000  ...   \n",
       "75%                0.000000            0.000000             0.000000  ...   \n",
       "max               89.000000           34.005833            74.766029  ...   \n",
       "\n",
       "       Average speed (m/s)  Max speed (m/s)  Min speed (m/s)    Step count  \\\n",
       "count           126.000000       126.000000       126.000000    126.000000   \n",
       "mean              0.553168         1.598505         0.272187   4808.619048   \n",
       "std               0.204999         0.605025         0.102573   3799.116585   \n",
       "min               0.000000         0.000000         0.000000      0.000000   \n",
       "25%               0.472321         1.373197         0.254423   1325.250000   \n",
       "50%               0.539924         1.688122         0.264507   4171.000000   \n",
       "75%               0.634514         1.900121         0.278653   7242.750000   \n",
       "max               1.321909         3.133387         0.888417  15070.000000   \n",
       "\n",
       "       Average weight (kg)  Max weight (kg)  Min weight (kg)  \\\n",
       "count           126.000000       126.000000       126.000000   \n",
       "mean              0.500000         0.500000         0.500000   \n",
       "std               5.612486         5.612486         5.612486   \n",
       "min               0.000000         0.000000         0.000000   \n",
       "25%               0.000000         0.000000         0.000000   \n",
       "50%               0.000000         0.000000         0.000000   \n",
       "75%               0.000000         0.000000         0.000000   \n",
       "max              63.000000        63.000000        63.000000   \n",
       "\n",
       "       Biking duration (ms)  Walking duration (ms)  Running duration (ms)  \n",
       "count            126.000000           1.260000e+02           1.260000e+02  \n",
       "mean            5422.746032           2.468148e+06           4.899067e+04  \n",
       "std            60870.173239           2.033569e+06           1.577485e+05  \n",
       "min                0.000000           0.000000e+00           0.000000e+00  \n",
       "25%                0.000000           6.278075e+05           0.000000e+00  \n",
       "50%                0.000000           2.284878e+06           0.000000e+00  \n",
       "75%                0.000000           3.833795e+06           0.000000e+00  \n",
       "max           683266.000000           7.790989e+06           1.238915e+06  \n",
       "\n",
       "[8 rows x 22 columns]"
      ]
     },
     "execution_count": 44,
     "metadata": {},
     "output_type": "execute_result"
    }
   ],
   "source": [
    "df.describe()"
   ]
  },
  {
   "cell_type": "code",
   "execution_count": 45,
   "id": "3736951b",
   "metadata": {},
   "outputs": [
    {
     "data": {
      "text/plain": [
       "Date                        0\n",
       "Move Minutes count          0\n",
       "Calories (kcal)             0\n",
       "Distance (m)                0\n",
       "Heart Points                0\n",
       "Heart Minutes               0\n",
       "Average heart rate (bpm)    0\n",
       "Max heart rate (bpm)        0\n",
       "Min heart rate (bpm)        0\n",
       "Low latitude (deg)          0\n",
       "Low longitude (deg)         0\n",
       "High latitude (deg)         0\n",
       "High longitude (deg)        0\n",
       "Average speed (m/s)         0\n",
       "Max speed (m/s)             0\n",
       "Min speed (m/s)             0\n",
       "Step count                  0\n",
       "Average weight (kg)         0\n",
       "Max weight (kg)             0\n",
       "Min weight (kg)             0\n",
       "Biking duration (ms)        0\n",
       "Walking duration (ms)       0\n",
       "Running duration (ms)       0\n",
       "dtype: int64"
      ]
     },
     "execution_count": 45,
     "metadata": {},
     "output_type": "execute_result"
    }
   ],
   "source": [
    "df.isnull().sum()"
   ]
  },
  {
   "cell_type": "code",
   "execution_count": 46,
   "id": "e5c43897",
   "metadata": {},
   "outputs": [
    {
     "name": "stdout",
     "output_type": "stream",
     "text": [
      "<class 'pandas.core.frame.DataFrame'>\n",
      "RangeIndex: 126 entries, 0 to 125\n",
      "Data columns (total 23 columns):\n",
      " #   Column                    Non-Null Count  Dtype  \n",
      "---  ------                    --------------  -----  \n",
      " 0   Date                      126 non-null    object \n",
      " 1   Move Minutes count        126 non-null    float64\n",
      " 2   Calories (kcal)           126 non-null    float64\n",
      " 3   Distance (m)              126 non-null    float64\n",
      " 4   Heart Points              126 non-null    float64\n",
      " 5   Heart Minutes             126 non-null    float64\n",
      " 6   Average heart rate (bpm)  126 non-null    float64\n",
      " 7   Max heart rate (bpm)      126 non-null    float64\n",
      " 8   Min heart rate (bpm)      126 non-null    float64\n",
      " 9   Low latitude (deg)        126 non-null    float64\n",
      " 10  Low longitude (deg)       126 non-null    float64\n",
      " 11  High latitude (deg)       126 non-null    float64\n",
      " 12  High longitude (deg)      126 non-null    float64\n",
      " 13  Average speed (m/s)       126 non-null    float64\n",
      " 14  Max speed (m/s)           126 non-null    float64\n",
      " 15  Min speed (m/s)           126 non-null    float64\n",
      " 16  Step count                126 non-null    float64\n",
      " 17  Average weight (kg)       126 non-null    float64\n",
      " 18  Max weight (kg)           126 non-null    float64\n",
      " 19  Min weight (kg)           126 non-null    float64\n",
      " 20  Biking duration (ms)      126 non-null    float64\n",
      " 21  Walking duration (ms)     126 non-null    float64\n",
      " 22  Running duration (ms)     126 non-null    float64\n",
      "dtypes: float64(22), object(1)\n",
      "memory usage: 22.8+ KB\n"
     ]
    }
   ],
   "source": [
    "df.info()"
   ]
  },
  {
   "cell_type": "code",
   "execution_count": 47,
   "id": "a1ad1605",
   "metadata": {},
   "outputs": [],
   "source": [
    "df['Date'] = pd.to_datetime(df['Date'])"
   ]
  },
  {
   "cell_type": "code",
   "execution_count": 48,
   "id": "bc769cac",
   "metadata": {},
   "outputs": [
    {
     "name": "stdout",
     "output_type": "stream",
     "text": [
      "<class 'pandas.core.frame.DataFrame'>\n",
      "RangeIndex: 126 entries, 0 to 125\n",
      "Data columns (total 23 columns):\n",
      " #   Column                    Non-Null Count  Dtype         \n",
      "---  ------                    --------------  -----         \n",
      " 0   Date                      126 non-null    datetime64[ns]\n",
      " 1   Move Minutes count        126 non-null    float64       \n",
      " 2   Calories (kcal)           126 non-null    float64       \n",
      " 3   Distance (m)              126 non-null    float64       \n",
      " 4   Heart Points              126 non-null    float64       \n",
      " 5   Heart Minutes             126 non-null    float64       \n",
      " 6   Average heart rate (bpm)  126 non-null    float64       \n",
      " 7   Max heart rate (bpm)      126 non-null    float64       \n",
      " 8   Min heart rate (bpm)      126 non-null    float64       \n",
      " 9   Low latitude (deg)        126 non-null    float64       \n",
      " 10  Low longitude (deg)       126 non-null    float64       \n",
      " 11  High latitude (deg)       126 non-null    float64       \n",
      " 12  High longitude (deg)      126 non-null    float64       \n",
      " 13  Average speed (m/s)       126 non-null    float64       \n",
      " 14  Max speed (m/s)           126 non-null    float64       \n",
      " 15  Min speed (m/s)           126 non-null    float64       \n",
      " 16  Step count                126 non-null    float64       \n",
      " 17  Average weight (kg)       126 non-null    float64       \n",
      " 18  Max weight (kg)           126 non-null    float64       \n",
      " 19  Min weight (kg)           126 non-null    float64       \n",
      " 20  Biking duration (ms)      126 non-null    float64       \n",
      " 21  Walking duration (ms)     126 non-null    float64       \n",
      " 22  Running duration (ms)     126 non-null    float64       \n",
      "dtypes: datetime64[ns](1), float64(22)\n",
      "memory usage: 22.8 KB\n"
     ]
    }
   ],
   "source": [
    "df.info()"
   ]
  },
  {
   "cell_type": "code",
   "execution_count": 49,
   "id": "02a98002",
   "metadata": {},
   "outputs": [
    {
     "data": {
      "text/html": [
       "<div>\n",
       "<style scoped>\n",
       "    .dataframe tbody tr th:only-of-type {\n",
       "        vertical-align: middle;\n",
       "    }\n",
       "\n",
       "    .dataframe tbody tr th {\n",
       "        vertical-align: top;\n",
       "    }\n",
       "\n",
       "    .dataframe thead th {\n",
       "        text-align: right;\n",
       "    }\n",
       "</style>\n",
       "<table border=\"1\" class=\"dataframe\">\n",
       "  <thead>\n",
       "    <tr style=\"text-align: right;\">\n",
       "      <th></th>\n",
       "      <th>Date</th>\n",
       "      <th>Move Minutes count</th>\n",
       "      <th>Calories (kcal)</th>\n",
       "      <th>Distance (m)</th>\n",
       "      <th>Heart Points</th>\n",
       "      <th>Heart Minutes</th>\n",
       "      <th>Average heart rate (bpm)</th>\n",
       "      <th>Max heart rate (bpm)</th>\n",
       "      <th>Min heart rate (bpm)</th>\n",
       "      <th>Low latitude (deg)</th>\n",
       "      <th>...</th>\n",
       "      <th>Average speed (m/s)</th>\n",
       "      <th>Max speed (m/s)</th>\n",
       "      <th>Min speed (m/s)</th>\n",
       "      <th>Step count</th>\n",
       "      <th>Average weight (kg)</th>\n",
       "      <th>Max weight (kg)</th>\n",
       "      <th>Min weight (kg)</th>\n",
       "      <th>Biking duration (ms)</th>\n",
       "      <th>Walking duration (ms)</th>\n",
       "      <th>Running duration (ms)</th>\n",
       "    </tr>\n",
       "  </thead>\n",
       "  <tbody>\n",
       "    <tr>\n",
       "      <th>0</th>\n",
       "      <td>2021-09-16</td>\n",
       "      <td>7.0</td>\n",
       "      <td>41.903859</td>\n",
       "      <td>425.324791</td>\n",
       "      <td>3.0</td>\n",
       "      <td>3.0</td>\n",
       "      <td>0.0</td>\n",
       "      <td>0.0</td>\n",
       "      <td>0.0</td>\n",
       "      <td>0.0</td>\n",
       "      <td>...</td>\n",
       "      <td>1.099972</td>\n",
       "      <td>1.202604</td>\n",
       "      <td>0.888417</td>\n",
       "      <td>643.0</td>\n",
       "      <td>0.0</td>\n",
       "      <td>0.0</td>\n",
       "      <td>0.0</td>\n",
       "      <td>0.0</td>\n",
       "      <td>446407.0</td>\n",
       "      <td>0.0</td>\n",
       "    </tr>\n",
       "    <tr>\n",
       "      <th>1</th>\n",
       "      <td>2021-09-22</td>\n",
       "      <td>2.0</td>\n",
       "      <td>0.000000</td>\n",
       "      <td>45.950287</td>\n",
       "      <td>0.0</td>\n",
       "      <td>0.0</td>\n",
       "      <td>0.0</td>\n",
       "      <td>0.0</td>\n",
       "      <td>0.0</td>\n",
       "      <td>0.0</td>\n",
       "      <td>...</td>\n",
       "      <td>0.631319</td>\n",
       "      <td>0.631319</td>\n",
       "      <td>0.631319</td>\n",
       "      <td>86.0</td>\n",
       "      <td>0.0</td>\n",
       "      <td>0.0</td>\n",
       "      <td>0.0</td>\n",
       "      <td>0.0</td>\n",
       "      <td>0.0</td>\n",
       "      <td>0.0</td>\n",
       "    </tr>\n",
       "    <tr>\n",
       "      <th>2</th>\n",
       "      <td>2025-03-07</td>\n",
       "      <td>0.0</td>\n",
       "      <td>1028.283893</td>\n",
       "      <td>0.000000</td>\n",
       "      <td>0.0</td>\n",
       "      <td>0.0</td>\n",
       "      <td>0.0</td>\n",
       "      <td>0.0</td>\n",
       "      <td>0.0</td>\n",
       "      <td>0.0</td>\n",
       "      <td>...</td>\n",
       "      <td>0.000000</td>\n",
       "      <td>0.000000</td>\n",
       "      <td>0.000000</td>\n",
       "      <td>0.0</td>\n",
       "      <td>0.0</td>\n",
       "      <td>0.0</td>\n",
       "      <td>0.0</td>\n",
       "      <td>0.0</td>\n",
       "      <td>0.0</td>\n",
       "      <td>0.0</td>\n",
       "    </tr>\n",
       "    <tr>\n",
       "      <th>3</th>\n",
       "      <td>2025-03-08</td>\n",
       "      <td>0.0</td>\n",
       "      <td>1589.499985</td>\n",
       "      <td>0.000000</td>\n",
       "      <td>0.0</td>\n",
       "      <td>0.0</td>\n",
       "      <td>0.0</td>\n",
       "      <td>0.0</td>\n",
       "      <td>0.0</td>\n",
       "      <td>0.0</td>\n",
       "      <td>...</td>\n",
       "      <td>0.000000</td>\n",
       "      <td>0.000000</td>\n",
       "      <td>0.000000</td>\n",
       "      <td>0.0</td>\n",
       "      <td>0.0</td>\n",
       "      <td>0.0</td>\n",
       "      <td>0.0</td>\n",
       "      <td>0.0</td>\n",
       "      <td>0.0</td>\n",
       "      <td>0.0</td>\n",
       "    </tr>\n",
       "    <tr>\n",
       "      <th>4</th>\n",
       "      <td>2025-03-09</td>\n",
       "      <td>39.0</td>\n",
       "      <td>1668.749025</td>\n",
       "      <td>2471.957810</td>\n",
       "      <td>16.0</td>\n",
       "      <td>16.0</td>\n",
       "      <td>0.0</td>\n",
       "      <td>0.0</td>\n",
       "      <td>0.0</td>\n",
       "      <td>0.0</td>\n",
       "      <td>...</td>\n",
       "      <td>0.404399</td>\n",
       "      <td>1.621773</td>\n",
       "      <td>0.254423</td>\n",
       "      <td>3232.0</td>\n",
       "      <td>63.0</td>\n",
       "      <td>63.0</td>\n",
       "      <td>63.0</td>\n",
       "      <td>0.0</td>\n",
       "      <td>1409719.0</td>\n",
       "      <td>101347.0</td>\n",
       "    </tr>\n",
       "  </tbody>\n",
       "</table>\n",
       "<p>5 rows × 23 columns</p>\n",
       "</div>"
      ],
      "text/plain": [
       "        Date  Move Minutes count  Calories (kcal)  Distance (m)  Heart Points  \\\n",
       "0 2021-09-16                 7.0        41.903859    425.324791           3.0   \n",
       "1 2021-09-22                 2.0         0.000000     45.950287           0.0   \n",
       "2 2025-03-07                 0.0      1028.283893      0.000000           0.0   \n",
       "3 2025-03-08                 0.0      1589.499985      0.000000           0.0   \n",
       "4 2025-03-09                39.0      1668.749025   2471.957810          16.0   \n",
       "\n",
       "   Heart Minutes  Average heart rate (bpm)  Max heart rate (bpm)  \\\n",
       "0            3.0                       0.0                   0.0   \n",
       "1            0.0                       0.0                   0.0   \n",
       "2            0.0                       0.0                   0.0   \n",
       "3            0.0                       0.0                   0.0   \n",
       "4           16.0                       0.0                   0.0   \n",
       "\n",
       "   Min heart rate (bpm)  Low latitude (deg)  ...  Average speed (m/s)  \\\n",
       "0                   0.0                 0.0  ...             1.099972   \n",
       "1                   0.0                 0.0  ...             0.631319   \n",
       "2                   0.0                 0.0  ...             0.000000   \n",
       "3                   0.0                 0.0  ...             0.000000   \n",
       "4                   0.0                 0.0  ...             0.404399   \n",
       "\n",
       "   Max speed (m/s)  Min speed (m/s)  Step count  Average weight (kg)  \\\n",
       "0         1.202604         0.888417       643.0                  0.0   \n",
       "1         0.631319         0.631319        86.0                  0.0   \n",
       "2         0.000000         0.000000         0.0                  0.0   \n",
       "3         0.000000         0.000000         0.0                  0.0   \n",
       "4         1.621773         0.254423      3232.0                 63.0   \n",
       "\n",
       "   Max weight (kg)  Min weight (kg)  Biking duration (ms)  \\\n",
       "0              0.0              0.0                   0.0   \n",
       "1              0.0              0.0                   0.0   \n",
       "2              0.0              0.0                   0.0   \n",
       "3              0.0              0.0                   0.0   \n",
       "4             63.0             63.0                   0.0   \n",
       "\n",
       "   Walking duration (ms)  Running duration (ms)  \n",
       "0               446407.0                    0.0  \n",
       "1                    0.0                    0.0  \n",
       "2                    0.0                    0.0  \n",
       "3                    0.0                    0.0  \n",
       "4              1409719.0               101347.0  \n",
       "\n",
       "[5 rows x 23 columns]"
      ]
     },
     "execution_count": 49,
     "metadata": {},
     "output_type": "execute_result"
    }
   ],
   "source": [
    "df.head(5)"
   ]
  },
  {
   "cell_type": "code",
   "execution_count": 50,
   "id": "4fbafb9f",
   "metadata": {},
   "outputs": [],
   "source": [
    "df.to_csv(\"Refined_data.csv\", index=False)"
   ]
  },
  {
   "cell_type": "code",
   "execution_count": 51,
   "id": "c837551f",
   "metadata": {},
   "outputs": [],
   "source": [
    "import matplotlib.pyplot as plt\n",
    "import seaborn as sns\n",
    "import plotly.express as px"
   ]
  },
  {
   "cell_type": "code",
   "execution_count": 52,
   "id": "bf80dad5",
   "metadata": {},
   "outputs": [
    {
     "data": {
      "text/plain": [
       "Index(['Date', 'Move Minutes count', 'Calories (kcal)', 'Distance (m)',\n",
       "       'Heart Points', 'Heart Minutes', 'Average heart rate (bpm)',\n",
       "       'Max heart rate (bpm)', 'Min heart rate (bpm)', 'Low latitude (deg)',\n",
       "       'Low longitude (deg)', 'High latitude (deg)', 'High longitude (deg)',\n",
       "       'Average speed (m/s)', 'Max speed (m/s)', 'Min speed (m/s)',\n",
       "       'Step count', 'Average weight (kg)', 'Max weight (kg)',\n",
       "       'Min weight (kg)', 'Biking duration (ms)', 'Walking duration (ms)',\n",
       "       'Running duration (ms)'],\n",
       "      dtype='object')"
      ]
     },
     "execution_count": 52,
     "metadata": {},
     "output_type": "execute_result"
    }
   ],
   "source": [
    "df.columns"
   ]
  },
  {
   "cell_type": "code",
   "execution_count": 53,
   "id": "c3ad14bc",
   "metadata": {},
   "outputs": [],
   "source": [
    "df['Month'] = df['Date'].dt.month_name()"
   ]
  },
  {
   "cell_type": "code",
   "execution_count": 54,
   "id": "e916a49a",
   "metadata": {},
   "outputs": [
    {
     "data": {
      "text/plain": [
       "Index(['Date', 'Move Minutes count', 'Calories (kcal)', 'Distance (m)',\n",
       "       'Heart Points', 'Heart Minutes', 'Average heart rate (bpm)',\n",
       "       'Max heart rate (bpm)', 'Min heart rate (bpm)', 'Low latitude (deg)',\n",
       "       'Low longitude (deg)', 'High latitude (deg)', 'High longitude (deg)',\n",
       "       'Average speed (m/s)', 'Max speed (m/s)', 'Min speed (m/s)',\n",
       "       'Step count', 'Average weight (kg)', 'Max weight (kg)',\n",
       "       'Min weight (kg)', 'Biking duration (ms)', 'Walking duration (ms)',\n",
       "       'Running duration (ms)', 'Month'],\n",
       "      dtype='object')"
      ]
     },
     "execution_count": 54,
     "metadata": {},
     "output_type": "execute_result"
    }
   ],
   "source": [
    "df.columns"
   ]
  },
  {
   "cell_type": "code",
   "execution_count": 55,
   "id": "3ea03097",
   "metadata": {},
   "outputs": [
    {
     "data": {
      "text/plain": [
       "array(['September', 'March', 'April', 'May', 'June', 'July'], dtype=object)"
      ]
     },
     "execution_count": 55,
     "metadata": {},
     "output_type": "execute_result"
    }
   ],
   "source": [
    "df['Month'].unique()"
   ]
  },
  {
   "cell_type": "code",
   "execution_count": 56,
   "id": "2fe729b7",
   "metadata": {},
   "outputs": [
    {
     "data": {
      "text/plain": [
       "<Axes: xlabel='Month', ylabel='Calories (kcal)'>"
      ]
     },
     "execution_count": 56,
     "metadata": {},
     "output_type": "execute_result"
    },
    {
     "data": {
      "image/png": "[encoded data removed]",
      "text/plain": [
       "<Figure size 1000x500 with 1 Axes>"
      ]
     },
     "metadata": {},
     "output_type": "display_data"
    }
   ],
   "source": [
    "ds1 = df.groupby(df['Month'], as_index=False)['Calories (kcal)'].sum()\n",
    "sns.set(rc={'figure.figsize':(10,5)})\n",
    "sns.lineplot(ds1, x= df['Month'], y=df['Calories (kcal)'])\n",
    "\n"
   ]
  },
  {
   "cell_type": "code",
   "execution_count": 57,
   "id": "838d3d87",
   "metadata": {},
   "outputs": [
    {
     "data": {
      "application/vnd.plotly.v1+json": {
       "config": {
        "plotlyServerURL": "https://plot.ly"
       },
       "data": [
        {
         "hovertemplate": "Month=%{x}<br>Calories (kcal)=%{y}<extra></extra>",
         "legendgroup": "",
         "line": {
          "color": "#636efa",
          "dash": "solid"
         },
         "marker": {
          "symbol": "circle"
         },
         "mode": "lines",
         "name": "",
         "orientation": "v",
         "showlegend": false,
         "type": "scatter",
         "x": [
          "April",
          "July",
          "June",
          "March",
          "May",
          "September"
         ],
         "xaxis": "x",
         "y": {
          "bdata": "s6PFYh0N6EA6kwXW+oXKQBzU/fhM5OlAzUcSzKdx5EBklvP9vGPqQAAAQKSx80RA",
          "dtype": "f8"
         },
         "yaxis": "y"
        }
       ],
       "layout": {
        "legend": {
         "tracegroupgap": 0
        },
        "margin": {
         "t": 60
        },
        "template": {
         "data": {
          "bar": [
           {
            "error_x": {
             "color": "#2a3f5f"
            },
            "error_y": {
             "color": "#2a3f5f"
            },
            "marker": {
             "line": {
              "color": "#E5ECF6",
              "width": 0.5
             },
             "pattern": {
              "fillmode": "overlay",
              "size": 10,
              "solidity": 0.2
             }
            },
            "type": "bar"
           }
          ],
          "barpolar": [
           {
            "marker": {
             "line": {
              "color": "#E5ECF6",
              "width": 0.5
             },
             "pattern": {
              "fillmode": "overlay",
              "size": 10,
              "solidity": 0.2
             }
            },
            "type": "barpolar"
           }
          ],
          "carpet": [
           {
            "aaxis": {
             "endlinecolor": "#2a3f5f",
             "gridcolor": "white",
             "linecolor": "white",
             "minorgridcolor": "white",
             "startlinecolor": "#2a3f5f"
            },
            "baxis": {
             "endlinecolor": "#2a3f5f",
             "gridcolor": "white",
             "linecolor": "white",
             "minorgridcolor": "white",
             "startlinecolor": "#2a3f5f"
            },
            "type": "carpet"
           }
          ],
          "choropleth": [
           {
            "colorbar": {
             "outlinewidth": 0,
             "ticks": ""
            },
            "type": "choropleth"
           }
          ],
          "contour": [
           {
            "colorbar": {
             "outlinewidth": 0,
             "ticks": ""
            },
            "colorscale": [
             [
              0,
              "#0d0887"
             ],
             [
              0.1111111111111111,
              "#46039f"
             ],
             [
              0.2222222222222222,
              "#7201a8"
             ],
             [
              0.3333333333333333,
              "#9c179e"
             ],
             [
              0.4444444444444444,
              "#bd3786"
             ],
             [
              0.5555555555555556,
              "#d8576b"
             ],
             [
              0.6666666666666666,
              "#ed7953"
             ],
             [
              0.7777777777777778,
              "#fb9f3a"
             ],
             [
              0.8888888888888888,
              "#fdca26"
             ],
             [
              1,
              "#f0f921"
             ]
            ],
            "type": "contour"
           }
          ],
          "contourcarpet": [
           {
            "colorbar": {
             "outlinewidth": 0,
             "ticks": ""
            },
            "type": "contourcarpet"
           }
          ],
          "heatmap": [
           {
            "colorbar": {
             "outlinewidth": 0,
             "ticks": ""
            },
            "colorscale": [
             [
              0,
              "#0d0887"
             ],
             [
              0.1111111111111111,
              "#46039f"
             ],
             [
              0.2222222222222222,
              "#7201a8"
             ],
             [
              0.3333333333333333,
              "#9c179e"
             ],
             [
              0.4444444444444444,
              "#bd3786"
             ],
             [
              0.5555555555555556,
              "#d8576b"
             ],
             [
              0.6666666666666666,
              "#ed7953"
             ],
             [
              0.7777777777777778,
              "#fb9f3a"
             ],
             [
              0.8888888888888888,
              "#fdca26"
             ],
             [
              1,
              "#f0f921"
             ]
            ],
            "type": "heatmap"
           }
          ],
          "histogram": [
           {
            "marker": {
             "pattern": {
              "fillmode": "overlay",
              "size": 10,
              "solidity": 0.2
             }
            },
            "type": "histogram"
           }
          ],
          "histogram2d": [
           {
            "colorbar": {
             "outlinewidth": 0,
             "ticks": ""
            },
            "colorscale": [
             [
              0,
              "#0d0887"
             ],
             [
              0.1111111111111111,
              "#46039f"
             ],
             [
              0.2222222222222222,
              "#7201a8"
             ],
             [
              0.3333333333333333,
              "#9c179e"
             ],
             [
              0.4444444444444444,
              "#bd3786"
             ],
             [
              0.5555555555555556,
              "#d8576b"
             ],
             [
              0.6666666666666666,
              "#ed7953"
             ],
             [
              0.7777777777777778,
              "#fb9f3a"
             ],
             [
              0.8888888888888888,
              "#fdca26"
             ],
             [
              1,
              "#f0f921"
             ]
            ],
            "type": "histogram2d"
           }
          ],
          "histogram2dcontour": [
           {
            "colorbar": {
             "outlinewidth": 0,
             "ticks": ""
            },
            "colorscale": [
             [
              0,
              "#0d0887"
             ],
             [
              0.1111111111111111,
              "#46039f"
             ],
             [
              0.2222222222222222,
              "#7201a8"
             ],
             [
              0.3333333333333333,
              "#9c179e"
             ],
             [
              0.4444444444444444,
              "#bd3786"
             ],
             [
              0.5555555555555556,
              "#d8576b"
             ],
             [
              0.6666666666666666,
              "#ed7953"
             ],
             [
              0.7777777777777778,
              "#fb9f3a"
             ],
             [
              0.8888888888888888,
              "#fdca26"
             ],
             [
              1,
              "#f0f921"
             ]
            ],
            "type": "histogram2dcontour"
           }
          ],
          "mesh3d": [
           {
            "colorbar": {
             "outlinewidth": 0,
             "ticks": ""
            },
            "type": "mesh3d"
           }
          ],
          "parcoords": [
           {
            "line": {
             "colorbar": {
              "outlinewidth": 0,
              "ticks": ""
             }
            },
            "type": "parcoords"
           }
          ],
          "pie": [
           {
            "automargin": true,
            "type": "pie"
           }
          ],
          "scatter": [
           {
            "fillpattern": {
             "fillmode": "overlay",
             "size": 10,
             "solidity": 0.2
            },
            "type": "scatter"
           }
          ],
          "scatter3d": [
           {
            "line": {
             "colorbar": {
              "outlinewidth": 0,
              "ticks": ""
             }
            },
            "marker": {
             "colorbar": {
              "outlinewidth": 0,
              "ticks": ""
             }
            },
            "type": "scatter3d"
           }
          ],
          "scattercarpet": [
           {
            "marker": {
             "colorbar": {
              "outlinewidth": 0,
              "ticks": ""
             }
            },
            "type": "scattercarpet"
           }
          ],
          "scattergeo": [
           {
            "marker": {
             "colorbar": {
              "outlinewidth": 0,
              "ticks": ""
             }
            },
            "type": "scattergeo"
           }
          ],
          "scattergl": [
           {
            "marker": {
             "colorbar": {
              "outlinewidth": 0,
              "ticks": ""
             }
            },
            "type": "scattergl"
           }
          ],
          "scattermap": [
           {
            "marker": {
             "colorbar": {
              "outlinewidth": 0,
              "ticks": ""
             }
            },
            "type": "scattermap"
           }
          ],
          "scattermapbox": [
           {
            "marker": {
             "colorbar": {
              "outlinewidth": 0,
              "ticks": ""
             }
            },
            "type": "scattermapbox"
           }
          ],
          "scatterpolar": [
           {
            "marker": {
             "colorbar": {
              "outlinewidth": 0,
              "ticks": ""
             }
            },
            "type": "scatterpolar"
           }
          ],
          "scatterpolargl": [
           {
            "marker": {
             "colorbar": {
              "outlinewidth": 0,
              "ticks": ""
             }
            },
            "type": "scatterpolargl"
           }
          ],
          "scatterternary": [
           {
            "marker": {
             "colorbar": {
              "outlinewidth": 0,
              "ticks": ""
             }
            },
            "type": "scatterternary"
           }
          ],
          "surface": [
           {
            "colorbar": {
             "outlinewidth": 0,
             "ticks": ""
            },
            "colorscale": [
             [
              0,
              "#0d0887"
             ],
             [
              0.1111111111111111,
              "#46039f"
             ],
             [
              0.2222222222222222,
              "#7201a8"
             ],
             [
              0.3333333333333333,
              "#9c179e"
             ],
             [
              0.4444444444444444,
              "#bd3786"
             ],
             [
              0.5555555555555556,
              "#d8576b"
             ],
             [
              0.6666666666666666,
              "#ed7953"
             ],
             [
              0.7777777777777778,
              "#fb9f3a"
             ],
             [
              0.8888888888888888,
              "#fdca26"
             ],
             [
              1,
              "#f0f921"
             ]
            ],
            "type": "surface"
           }
          ],
          "table": [
           {
            "cells": {
             "fill": {
              "color": "#EBF0F8"
             },
             "line": {
              "color": "white"
             }
            },
            "header": {
             "fill": {
              "color": "#C8D4E3"
             },
             "line": {
              "color": "white"
             }
            },
            "type": "table"
           }
          ]
         },
         "layout": {
          "annotationdefaults": {
           "arrowcolor": "#2a3f5f",
           "arrowhead": 0,
           "arrowwidth": 1
          },
          "autotypenumbers": "strict",
          "coloraxis": {
           "colorbar": {
            "outlinewidth": 0,
            "ticks": ""
           }
          },
          "colorscale": {
           "diverging": [
            [
             0,
             "#8e0152"
            ],
            [
             0.1,
             "#c51b7d"
            ],
            [
             0.2,
             "#de77ae"
            ],
            [
             0.3,
             "#f1b6da"
            ],
            [
             0.4,
             "#fde0ef"
            ],
            [
             0.5,
             "#f7f7f7"
            ],
            [
             0.6,
             "#e6f5d0"
            ],
            [
             0.7,
             "#b8e186"
            ],
            [
             0.8,
             "#7fbc41"
            ],
            [
             0.9,
             "#4d9221"
            ],
            [
             1,
             "#276419"
            ]
           ],
           "sequential": [
            [
             0,
             "#0d0887"
            ],
            [
             0.1111111111111111,
             "#46039f"
            ],
            [
             0.2222222222222222,
             "#7201a8"
            ],
            [
             0.3333333333333333,
             "#9c179e"
            ],
            [
             0.4444444444444444,
             "#bd3786"
            ],
            [
             0.5555555555555556,
             "#d8576b"
            ],
            [
             0.6666666666666666,
             "#ed7953"
            ],
            [
             0.7777777777777778,
             "#fb9f3a"
            ],
            [
             0.8888888888888888,
             "#fdca26"
            ],
            [
             1,
             "#f0f921"
            ]
           ],
           "sequentialminus": [
            [
             0,
             "#0d0887"
            ],
            [
             0.1111111111111111,
             "#46039f"
            ],
            [
             0.2222222222222222,
             "#7201a8"
            ],
            [
             0.3333333333333333,
             "#9c179e"
            ],
            [
             0.4444444444444444,
             "#bd3786"
            ],
            [
             0.5555555555555556,
             "#d8576b"
            ],
            [
             0.6666666666666666,
             "#ed7953"
            ],
            [
             0.7777777777777778,
             "#fb9f3a"
            ],
            [
             0.8888888888888888,
             "#fdca26"
            ],
            [
             1,
             "#f0f921"
            ]
           ]
          },
          "colorway": [
           "#636efa",
           "#EF553B",
           "#00cc96",
           "#ab63fa",
           "#FFA15A",
           "#19d3f3",
           "#FF6692",
           "#B6E880",
           "#FF97FF",
           "#FECB52"
          ],
          "font": {
           "color": "#2a3f5f"
          },
          "geo": {
           "bgcolor": "white",
           "lakecolor": "white",
           "landcolor": "#E5ECF6",
           "showlakes": true,
           "showland": true,
           "subunitcolor": "white"
          },
          "hoverlabel": {
           "align": "left"
          },
          "hovermode": "closest",
          "mapbox": {
           "style": "light"
          },
          "paper_bgcolor": "white",
          "plot_bgcolor": "#E5ECF6",
          "polar": {
           "angularaxis": {
            "gridcolor": "white",
            "linecolor": "white",
            "ticks": ""
           },
           "bgcolor": "#E5ECF6",
           "radialaxis": {
            "gridcolor": "white",
            "linecolor": "white",
            "ticks": ""
           }
          },
          "scene": {
           "xaxis": {
            "backgroundcolor": "#E5ECF6",
            "gridcolor": "white",
            "gridwidth": 2,
            "linecolor": "white",
            "showbackground": true,
            "ticks": "",
            "zerolinecolor": "white"
           },
           "yaxis": {
            "backgroundcolor": "#E5ECF6",
            "gridcolor": "white",
            "gridwidth": 2,
            "linecolor": "white",
            "showbackground": true,
            "ticks": "",
            "zerolinecolor": "white"
           },
           "zaxis": {
            "backgroundcolor": "#E5ECF6",
            "gridcolor": "white",
            "gridwidth": 2,
            "linecolor": "white",
            "showbackground": true,
            "ticks": "",
            "zerolinecolor": "white"
           }
          },
          "shapedefaults": {
           "line": {
            "color": "#2a3f5f"
           }
          },
          "ternary": {
           "aaxis": {
            "gridcolor": "white",
            "linecolor": "white",
            "ticks": ""
           },
           "baxis": {
            "gridcolor": "white",
            "linecolor": "white",
            "ticks": ""
           },
           "bgcolor": "#E5ECF6",
           "caxis": {
            "gridcolor": "white",
            "linecolor": "white",
            "ticks": ""
           }
          },
          "title": {
           "x": 0.05
          },
          "xaxis": {
           "automargin": true,
           "gridcolor": "white",
           "linecolor": "white",
           "ticks": "",
           "title": {
            "standoff": 15
           },
           "zerolinecolor": "white",
           "zerolinewidth": 2
          },
          "yaxis": {
           "automargin": true,
           "gridcolor": "white",
           "linecolor": "white",
           "ticks": "",
           "title": {
            "standoff": 15
           },
           "zerolinecolor": "white",
           "zerolinewidth": 2
          }
         }
        },
        "xaxis": {
         "anchor": "y",
         "domain": [
          0,
          1
         ],
         "title": {
          "text": "Month"
         }
        },
        "yaxis": {
         "anchor": "x",
         "domain": [
          0,
          1
         ],
         "title": {
          "text": "Calories (kcal)"
         }
        }
       }
      }
     },
     "metadata": {},
     "output_type": "display_data"
    }
   ],
   "source": [
    "fig1 = px.line(ds1, x= 'Month', y='Calories (kcal)')\n",
    "fig1.show()"
   ]
  },
  {
   "cell_type": "code",
   "execution_count": 58,
   "id": "1f163b40",
   "metadata": {},
   "outputs": [],
   "source": [
    "df['Year_Month'] = df['Date'].dt.to_period('M').astype(str)\n"
   ]
  },
  {
   "cell_type": "code",
   "execution_count": 59,
   "id": "faa43e3f",
   "metadata": {},
   "outputs": [
    {
     "data": {
      "text/html": [
       "<div>\n",
       "<style scoped>\n",
       "    .dataframe tbody tr th:only-of-type {\n",
       "        vertical-align: middle;\n",
       "    }\n",
       "\n",
       "    .dataframe tbody tr th {\n",
       "        vertical-align: top;\n",
       "    }\n",
       "\n",
       "    .dataframe thead th {\n",
       "        text-align: right;\n",
       "    }\n",
       "</style>\n",
       "<table border=\"1\" class=\"dataframe\">\n",
       "  <thead>\n",
       "    <tr style=\"text-align: right;\">\n",
       "      <th></th>\n",
       "      <th>Date</th>\n",
       "      <th>Move Minutes count</th>\n",
       "      <th>Calories (kcal)</th>\n",
       "      <th>Distance (m)</th>\n",
       "      <th>Heart Points</th>\n",
       "      <th>Heart Minutes</th>\n",
       "      <th>Average heart rate (bpm)</th>\n",
       "      <th>Max heart rate (bpm)</th>\n",
       "      <th>Min heart rate (bpm)</th>\n",
       "      <th>Low latitude (deg)</th>\n",
       "      <th>...</th>\n",
       "      <th>Min speed (m/s)</th>\n",
       "      <th>Step count</th>\n",
       "      <th>Average weight (kg)</th>\n",
       "      <th>Max weight (kg)</th>\n",
       "      <th>Min weight (kg)</th>\n",
       "      <th>Biking duration (ms)</th>\n",
       "      <th>Walking duration (ms)</th>\n",
       "      <th>Running duration (ms)</th>\n",
       "      <th>Month</th>\n",
       "      <th>Year_Month</th>\n",
       "    </tr>\n",
       "  </thead>\n",
       "  <tbody>\n",
       "    <tr>\n",
       "      <th>0</th>\n",
       "      <td>2021-09-16</td>\n",
       "      <td>7.0</td>\n",
       "      <td>41.903859</td>\n",
       "      <td>425.324791</td>\n",
       "      <td>3.0</td>\n",
       "      <td>3.0</td>\n",
       "      <td>0.0</td>\n",
       "      <td>0.0</td>\n",
       "      <td>0.0</td>\n",
       "      <td>0.0</td>\n",
       "      <td>...</td>\n",
       "      <td>0.888417</td>\n",
       "      <td>643.0</td>\n",
       "      <td>0.0</td>\n",
       "      <td>0.0</td>\n",
       "      <td>0.0</td>\n",
       "      <td>0.0</td>\n",
       "      <td>446407.0</td>\n",
       "      <td>0.0</td>\n",
       "      <td>September</td>\n",
       "      <td>2021-09</td>\n",
       "    </tr>\n",
       "    <tr>\n",
       "      <th>1</th>\n",
       "      <td>2021-09-22</td>\n",
       "      <td>2.0</td>\n",
       "      <td>0.000000</td>\n",
       "      <td>45.950287</td>\n",
       "      <td>0.0</td>\n",
       "      <td>0.0</td>\n",
       "      <td>0.0</td>\n",
       "      <td>0.0</td>\n",
       "      <td>0.0</td>\n",
       "      <td>0.0</td>\n",
       "      <td>...</td>\n",
       "      <td>0.631319</td>\n",
       "      <td>86.0</td>\n",
       "      <td>0.0</td>\n",
       "      <td>0.0</td>\n",
       "      <td>0.0</td>\n",
       "      <td>0.0</td>\n",
       "      <td>0.0</td>\n",
       "      <td>0.0</td>\n",
       "      <td>September</td>\n",
       "      <td>2021-09</td>\n",
       "    </tr>\n",
       "    <tr>\n",
       "      <th>2</th>\n",
       "      <td>2025-03-07</td>\n",
       "      <td>0.0</td>\n",
       "      <td>1028.283893</td>\n",
       "      <td>0.000000</td>\n",
       "      <td>0.0</td>\n",
       "      <td>0.0</td>\n",
       "      <td>0.0</td>\n",
       "      <td>0.0</td>\n",
       "      <td>0.0</td>\n",
       "      <td>0.0</td>\n",
       "      <td>...</td>\n",
       "      <td>0.000000</td>\n",
       "      <td>0.0</td>\n",
       "      <td>0.0</td>\n",
       "      <td>0.0</td>\n",
       "      <td>0.0</td>\n",
       "      <td>0.0</td>\n",
       "      <td>0.0</td>\n",
       "      <td>0.0</td>\n",
       "      <td>March</td>\n",
       "      <td>2025-03</td>\n",
       "    </tr>\n",
       "    <tr>\n",
       "      <th>3</th>\n",
       "      <td>2025-03-08</td>\n",
       "      <td>0.0</td>\n",
       "      <td>1589.499985</td>\n",
       "      <td>0.000000</td>\n",
       "      <td>0.0</td>\n",
       "      <td>0.0</td>\n",
       "      <td>0.0</td>\n",
       "      <td>0.0</td>\n",
       "      <td>0.0</td>\n",
       "      <td>0.0</td>\n",
       "      <td>...</td>\n",
       "      <td>0.000000</td>\n",
       "      <td>0.0</td>\n",
       "      <td>0.0</td>\n",
       "      <td>0.0</td>\n",
       "      <td>0.0</td>\n",
       "      <td>0.0</td>\n",
       "      <td>0.0</td>\n",
       "      <td>0.0</td>\n",
       "      <td>March</td>\n",
       "      <td>2025-03</td>\n",
       "    </tr>\n",
       "    <tr>\n",
       "      <th>4</th>\n",
       "      <td>2025-03-09</td>\n",
       "      <td>39.0</td>\n",
       "      <td>1668.749025</td>\n",
       "      <td>2471.957810</td>\n",
       "      <td>16.0</td>\n",
       "      <td>16.0</td>\n",
       "      <td>0.0</td>\n",
       "      <td>0.0</td>\n",
       "      <td>0.0</td>\n",
       "      <td>0.0</td>\n",
       "      <td>...</td>\n",
       "      <td>0.254423</td>\n",
       "      <td>3232.0</td>\n",
       "      <td>63.0</td>\n",
       "      <td>63.0</td>\n",
       "      <td>63.0</td>\n",
       "      <td>0.0</td>\n",
       "      <td>1409719.0</td>\n",
       "      <td>101347.0</td>\n",
       "      <td>March</td>\n",
       "      <td>2025-03</td>\n",
       "    </tr>\n",
       "  </tbody>\n",
       "</table>\n",
       "<p>5 rows × 25 columns</p>\n",
       "</div>"
      ],
      "text/plain": [
       "        Date  Move Minutes count  Calories (kcal)  Distance (m)  Heart Points  \\\n",
       "0 2021-09-16                 7.0        41.903859    425.324791           3.0   \n",
       "1 2021-09-22                 2.0         0.000000     45.950287           0.0   \n",
       "2 2025-03-07                 0.0      1028.283893      0.000000           0.0   \n",
       "3 2025-03-08                 0.0      1589.499985      0.000000           0.0   \n",
       "4 2025-03-09                39.0      1668.749025   2471.957810          16.0   \n",
       "\n",
       "   Heart Minutes  Average heart rate (bpm)  Max heart rate (bpm)  \\\n",
       "0            3.0                       0.0                   0.0   \n",
       "1            0.0                       0.0                   0.0   \n",
       "2            0.0                       0.0                   0.0   \n",
       "3            0.0                       0.0                   0.0   \n",
       "4           16.0                       0.0                   0.0   \n",
       "\n",
       "   Min heart rate (bpm)  Low latitude (deg)  ...  Min speed (m/s)  Step count  \\\n",
       "0                   0.0                 0.0  ...         0.888417       643.0   \n",
       "1                   0.0                 0.0  ...         0.631319        86.0   \n",
       "2                   0.0                 0.0  ...         0.000000         0.0   \n",
       "3                   0.0                 0.0  ...         0.000000         0.0   \n",
       "4                   0.0                 0.0  ...         0.254423      3232.0   \n",
       "\n",
       "   Average weight (kg)  Max weight (kg)  Min weight (kg)  \\\n",
       "0                  0.0              0.0              0.0   \n",
       "1                  0.0              0.0              0.0   \n",
       "2                  0.0              0.0              0.0   \n",
       "3                  0.0              0.0              0.0   \n",
       "4                 63.0             63.0             63.0   \n",
       "\n",
       "   Biking duration (ms)  Walking duration (ms)  Running duration (ms)  \\\n",
       "0                   0.0               446407.0                    0.0   \n",
       "1                   0.0                    0.0                    0.0   \n",
       "2                   0.0                    0.0                    0.0   \n",
       "3                   0.0                    0.0                    0.0   \n",
       "4                   0.0              1409719.0               101347.0   \n",
       "\n",
       "       Month  Year_Month  \n",
       "0  September     2021-09  \n",
       "1  September     2021-09  \n",
       "2      March     2025-03  \n",
       "3      March     2025-03  \n",
       "4      March     2025-03  \n",
       "\n",
       "[5 rows x 25 columns]"
      ]
     },
     "execution_count": 59,
     "metadata": {},
     "output_type": "execute_result"
    }
   ],
   "source": [
    "df.head(5)"
   ]
  },
  {
   "cell_type": "code",
   "execution_count": 60,
   "id": "c8856aec",
   "metadata": {},
   "outputs": [
    {
     "data": {
      "text/plain": [
       "Date                        datetime64[ns]\n",
       "Move Minutes count                 float64\n",
       "Calories (kcal)                    float64\n",
       "Distance (m)                       float64\n",
       "Heart Points                       float64\n",
       "Heart Minutes                      float64\n",
       "Average heart rate (bpm)           float64\n",
       "Max heart rate (bpm)               float64\n",
       "Min heart rate (bpm)               float64\n",
       "Low latitude (deg)                 float64\n",
       "Low longitude (deg)                float64\n",
       "High latitude (deg)                float64\n",
       "High longitude (deg)               float64\n",
       "Average speed (m/s)                float64\n",
       "Max speed (m/s)                    float64\n",
       "Min speed (m/s)                    float64\n",
       "Step count                         float64\n",
       "Average weight (kg)                float64\n",
       "Max weight (kg)                    float64\n",
       "Min weight (kg)                    float64\n",
       "Biking duration (ms)               float64\n",
       "Walking duration (ms)              float64\n",
       "Running duration (ms)              float64\n",
       "Month                               object\n",
       "Year_Month                          object\n",
       "dtype: object"
      ]
     },
     "execution_count": 60,
     "metadata": {},
     "output_type": "execute_result"
    }
   ],
   "source": [
    "df.dtypes"
   ]
  },
  {
   "cell_type": "code",
   "execution_count": 77,
   "id": "2a99062e",
   "metadata": {},
   "outputs": [],
   "source": [
    "df.to_csv(\"Visualization_data.csv\", index=False)"
   ]
  },
  {
   "cell_type": "code",
   "execution_count": 61,
   "id": "4bd5c5cd",
   "metadata": {},
   "outputs": [
    {
     "data": {
      "text/plain": [
       "Text(0.5, 0, 'Year-Month')"
      ]
     },
     "execution_count": 61,
     "metadata": {},
     "output_type": "execute_result"
    },
    {
     "data": {
      "image/png": "[encoded data removed]",
      "text/plain": [
       "<Figure size 1000x500 with 1 Axes>"
      ]
     },
     "metadata": {},
     "output_type": "display_data"
    }
   ],
   "source": [
    "ds2 = df.groupby(df['Year_Month'], as_index=False)['Calories (kcal)'].sum()\n",
    "sns.set(rc={'figure.figsize':(10,5)})\n",
    "sns.countplot(ds2, x= df['Year_Month'])\n",
    "plt.ylabel(\"Calories\")\n",
    "plt.xlabel(\"Year-Month\")\n"
   ]
  },
  {
   "cell_type": "code",
   "execution_count": 62,
   "id": "3e073716",
   "metadata": {},
   "outputs": [
    {
     "data": {
      "text/html": [
       "<div>\n",
       "<style scoped>\n",
       "    .dataframe tbody tr th:only-of-type {\n",
       "        vertical-align: middle;\n",
       "    }\n",
       "\n",
       "    .dataframe tbody tr th {\n",
       "        vertical-align: top;\n",
       "    }\n",
       "\n",
       "    .dataframe thead th {\n",
       "        text-align: right;\n",
       "    }\n",
       "</style>\n",
       "<table border=\"1\" class=\"dataframe\">\n",
       "  <thead>\n",
       "    <tr style=\"text-align: right;\">\n",
       "      <th></th>\n",
       "      <th>Year_Month</th>\n",
       "      <th>Calories (kcal)</th>\n",
       "    </tr>\n",
       "  </thead>\n",
       "  <tbody>\n",
       "    <tr>\n",
       "      <th>0</th>\n",
       "      <td>2021-09</td>\n",
       "      <td>41.903859</td>\n",
       "    </tr>\n",
       "    <tr>\n",
       "      <th>1</th>\n",
       "      <td>2025-03</td>\n",
       "      <td>41869.243661</td>\n",
       "    </tr>\n",
       "    <tr>\n",
       "      <th>2</th>\n",
       "      <td>2025-04</td>\n",
       "      <td>49256.918307</td>\n",
       "    </tr>\n",
       "    <tr>\n",
       "      <th>3</th>\n",
       "      <td>2025-05</td>\n",
       "      <td>54045.906000</td>\n",
       "    </tr>\n",
       "    <tr>\n",
       "      <th>4</th>\n",
       "      <td>2025-06</td>\n",
       "      <td>53026.405394</td>\n",
       "    </tr>\n",
       "    <tr>\n",
       "      <th>5</th>\n",
       "      <td>2025-07</td>\n",
       "      <td>13579.959656</td>\n",
       "    </tr>\n",
       "  </tbody>\n",
       "</table>\n",
       "</div>"
      ],
      "text/plain": [
       "  Year_Month  Calories (kcal)\n",
       "0    2021-09        41.903859\n",
       "1    2025-03     41869.243661\n",
       "2    2025-04     49256.918307\n",
       "3    2025-05     54045.906000\n",
       "4    2025-06     53026.405394\n",
       "5    2025-07     13579.959656"
      ]
     },
     "execution_count": 62,
     "metadata": {},
     "output_type": "execute_result"
    }
   ],
   "source": [
    "ds2"
   ]
  },
  {
   "cell_type": "code",
   "execution_count": 63,
   "id": "eb43217c",
   "metadata": {},
   "outputs": [
    {
     "data": {
      "text/plain": [
       "<Axes: xlabel='Year_Month', ylabel='Move Minutes count'>"
      ]
     },
     "execution_count": 63,
     "metadata": {},
     "output_type": "execute_result"
    },
    {
     "data": {
      "image/png": "[encoded data removed]",
      "text/plain": [
       "<Figure size 1000x500 with 1 Axes>"
      ]
     },
     "metadata": {},
     "output_type": "display_data"
    }
   ],
   "source": [
    "ds3 = df.groupby(df['Year_Month'], as_index=False)['Move Minutes count'].sum()\n",
    "sns.set(rc={'figure.figsize':(10,5)})\n",
    "sns.barplot(ds2, x= df['Year_Month'], y= df['Move Minutes count'])\n",
    "\n"
   ]
  },
  {
   "cell_type": "code",
   "execution_count": 64,
   "id": "49cad7d2",
   "metadata": {},
   "outputs": [
    {
     "data": {
      "text/html": [
       "<div>\n",
       "<style scoped>\n",
       "    .dataframe tbody tr th:only-of-type {\n",
       "        vertical-align: middle;\n",
       "    }\n",
       "\n",
       "    .dataframe tbody tr th {\n",
       "        vertical-align: top;\n",
       "    }\n",
       "\n",
       "    .dataframe thead th {\n",
       "        text-align: right;\n",
       "    }\n",
       "</style>\n",
       "<table border=\"1\" class=\"dataframe\">\n",
       "  <thead>\n",
       "    <tr style=\"text-align: right;\">\n",
       "      <th></th>\n",
       "      <th>Year_Month</th>\n",
       "      <th>Move Minutes count</th>\n",
       "    </tr>\n",
       "  </thead>\n",
       "  <tbody>\n",
       "    <tr>\n",
       "      <th>0</th>\n",
       "      <td>2021-09</td>\n",
       "      <td>9.0</td>\n",
       "    </tr>\n",
       "    <tr>\n",
       "      <th>1</th>\n",
       "      <td>2025-03</td>\n",
       "      <td>1095.0</td>\n",
       "    </tr>\n",
       "    <tr>\n",
       "      <th>2</th>\n",
       "      <td>2025-04</td>\n",
       "      <td>908.0</td>\n",
       "    </tr>\n",
       "    <tr>\n",
       "      <th>3</th>\n",
       "      <td>2025-05</td>\n",
       "      <td>2048.0</td>\n",
       "    </tr>\n",
       "    <tr>\n",
       "      <th>4</th>\n",
       "      <td>2025-06</td>\n",
       "      <td>2119.0</td>\n",
       "    </tr>\n",
       "    <tr>\n",
       "      <th>5</th>\n",
       "      <td>2025-07</td>\n",
       "      <td>362.0</td>\n",
       "    </tr>\n",
       "  </tbody>\n",
       "</table>\n",
       "</div>"
      ],
      "text/plain": [
       "  Year_Month  Move Minutes count\n",
       "0    2021-09                 9.0\n",
       "1    2025-03              1095.0\n",
       "2    2025-04               908.0\n",
       "3    2025-05              2048.0\n",
       "4    2025-06              2119.0\n",
       "5    2025-07               362.0"
      ]
     },
     "execution_count": 64,
     "metadata": {},
     "output_type": "execute_result"
    }
   ],
   "source": [
    "ds3"
   ]
  },
  {
   "cell_type": "code",
   "execution_count": 65,
   "id": "f90f60eb",
   "metadata": {},
   "outputs": [],
   "source": [
    "merged_ds = pd.merge(ds2, ds3, on='Year_Month')\n"
   ]
  },
  {
   "cell_type": "code",
   "execution_count": 66,
   "id": "b9793c8b",
   "metadata": {},
   "outputs": [
    {
     "data": {
      "text/html": [
       "<div>\n",
       "<style scoped>\n",
       "    .dataframe tbody tr th:only-of-type {\n",
       "        vertical-align: middle;\n",
       "    }\n",
       "\n",
       "    .dataframe tbody tr th {\n",
       "        vertical-align: top;\n",
       "    }\n",
       "\n",
       "    .dataframe thead th {\n",
       "        text-align: right;\n",
       "    }\n",
       "</style>\n",
       "<table border=\"1\" class=\"dataframe\">\n",
       "  <thead>\n",
       "    <tr style=\"text-align: right;\">\n",
       "      <th></th>\n",
       "      <th>Year_Month</th>\n",
       "      <th>Calories (kcal)</th>\n",
       "      <th>Move Minutes count</th>\n",
       "    </tr>\n",
       "  </thead>\n",
       "  <tbody>\n",
       "    <tr>\n",
       "      <th>0</th>\n",
       "      <td>2021-09</td>\n",
       "      <td>41.903859</td>\n",
       "      <td>9.0</td>\n",
       "    </tr>\n",
       "    <tr>\n",
       "      <th>1</th>\n",
       "      <td>2025-03</td>\n",
       "      <td>41869.243661</td>\n",
       "      <td>1095.0</td>\n",
       "    </tr>\n",
       "    <tr>\n",
       "      <th>2</th>\n",
       "      <td>2025-04</td>\n",
       "      <td>49256.918307</td>\n",
       "      <td>908.0</td>\n",
       "    </tr>\n",
       "    <tr>\n",
       "      <th>3</th>\n",
       "      <td>2025-05</td>\n",
       "      <td>54045.906000</td>\n",
       "      <td>2048.0</td>\n",
       "    </tr>\n",
       "    <tr>\n",
       "      <th>4</th>\n",
       "      <td>2025-06</td>\n",
       "      <td>53026.405394</td>\n",
       "      <td>2119.0</td>\n",
       "    </tr>\n",
       "    <tr>\n",
       "      <th>5</th>\n",
       "      <td>2025-07</td>\n",
       "      <td>13579.959656</td>\n",
       "      <td>362.0</td>\n",
       "    </tr>\n",
       "  </tbody>\n",
       "</table>\n",
       "</div>"
      ],
      "text/plain": [
       "  Year_Month  Calories (kcal)  Move Minutes count\n",
       "0    2021-09        41.903859                 9.0\n",
       "1    2025-03     41869.243661              1095.0\n",
       "2    2025-04     49256.918307               908.0\n",
       "3    2025-05     54045.906000              2048.0\n",
       "4    2025-06     53026.405394              2119.0\n",
       "5    2025-07     13579.959656               362.0"
      ]
     },
     "execution_count": 66,
     "metadata": {},
     "output_type": "execute_result"
    }
   ],
   "source": [
    "merged_ds"
   ]
  },
  {
   "cell_type": "code",
   "execution_count": 67,
   "id": "a2abd1cc",
   "metadata": {},
   "outputs": [
    {
     "data": {
      "text/plain": [
       "Index(['Date', 'Move Minutes count', 'Calories (kcal)', 'Distance (m)',\n",
       "       'Heart Points', 'Heart Minutes', 'Average heart rate (bpm)',\n",
       "       'Max heart rate (bpm)', 'Min heart rate (bpm)', 'Low latitude (deg)',\n",
       "       'Low longitude (deg)', 'High latitude (deg)', 'High longitude (deg)',\n",
       "       'Average speed (m/s)', 'Max speed (m/s)', 'Min speed (m/s)',\n",
       "       'Step count', 'Average weight (kg)', 'Max weight (kg)',\n",
       "       'Min weight (kg)', 'Biking duration (ms)', 'Walking duration (ms)',\n",
       "       'Running duration (ms)', 'Month', 'Year_Month'],\n",
       "      dtype='object')"
      ]
     },
     "execution_count": 67,
     "metadata": {},
     "output_type": "execute_result"
    }
   ],
   "source": [
    "df.columns"
   ]
  },
  {
   "cell_type": "code",
   "execution_count": 68,
   "id": "166e8bd1",
   "metadata": {},
   "outputs": [
    {
     "data": {
      "text/plain": [
       "3176.0"
      ]
     },
     "execution_count": 68,
     "metadata": {},
     "output_type": "execute_result"
    }
   ],
   "source": [
    "sum(df['Heart Points'])"
   ]
  },
  {
   "cell_type": "code",
   "execution_count": 69,
   "id": "e3554879",
   "metadata": {},
   "outputs": [],
   "source": [
    "#murk sol(mucurious solbulis)\n",
    "#artica urens, phosphorus\n",
    "\n",
    "\n",
    "#beladona, phosphorus, hepersulf"
   ]
  },
  {
   "cell_type": "code",
   "execution_count": 70,
   "id": "2cb517f1",
   "metadata": {},
   "outputs": [
    {
     "data": {
      "text/plain": [
       "Text(0, 0.5, 'Steps taken')"
      ]
     },
     "execution_count": 70,
     "metadata": {},
     "output_type": "execute_result"
    },
    {
     "data": {
      "image/png": "[encoded data removed]",
      "text/plain": [
       "<Figure size 1000x500 with 1 Axes>"
      ]
     },
     "metadata": {},
     "output_type": "display_data"
    }
   ],
   "source": [
    "#Analyzing Steps count over time\n",
    "\n",
    "sns.regplot(df, x='Move Minutes count', y='Step count')\n",
    "plt.xlabel('Time in Minutes')\n",
    "plt.ylabel('Steps taken')"
   ]
  },
  {
   "cell_type": "code",
   "execution_count": 71,
   "id": "37c8c0ca",
   "metadata": {},
   "outputs": [
    {
     "data": {
      "text/plain": [
       "Text(0.5, 0, 'Time in Minutes')"
      ]
     },
     "execution_count": 71,
     "metadata": {},
     "output_type": "execute_result"
    },
    {
     "data": {
      "image/png": "[encoded data removed]",
      "text/plain": [
       "<Figure size 1000x500 with 1 Axes>"
      ]
     },
     "metadata": {},
     "output_type": "display_data"
    }
   ],
   "source": [
    "#Analyzing Distance Covered over time\n",
    "\n",
    "sns.lineplot(df, x='Move Minutes count', y='Distance (m)', color='green')\n",
    "plt.xlabel('Time in Minutes')"
   ]
  },
  {
   "cell_type": "code",
   "execution_count": 72,
   "id": "fac2aacd",
   "metadata": {},
   "outputs": [
    {
     "data": {
      "text/plain": [
       "<Axes: xlabel='Year_Month', ylabel='Walking duration minutes'>"
      ]
     },
     "execution_count": 72,
     "metadata": {},
     "output_type": "execute_result"
    },
    {
     "data": {
      "image/png": "[encoded data removed]",
      "text/plain": [
       "<Figure size 1000x500 with 1 Axes>"
      ]
     },
     "metadata": {},
     "output_type": "display_data"
    }
   ],
   "source": [
    "#Walking Speed over time\n",
    "ds4 = df.groupby('Year_Month')['Walking duration (ms)'].sum().reset_index()\n",
    "\n",
    "ds4['Walking duration minutes'] = ds4['Walking duration (ms)']/60000\n",
    "ds4 = ds4.drop(index=0)\n",
    "\n",
    "sns.barplot(ds4, x='Year_Month', y='Walking duration minutes')"
   ]
  },
  {
   "cell_type": "code",
   "execution_count": 73,
   "id": "276478f6",
   "metadata": {},
   "outputs": [],
   "source": [
    "#Calculating Walking Efficiency\n",
    "\n",
    "wak_eff = df[['Move Minutes count', 'Distance (m)','Step count']]\n",
    "wak_eff = wak_eff[wak_eff[\"Step count\"] != 0]\n",
    "wak_eff['Efficiency'] = wak_eff['Distance (m)']/wak_eff['Step count']"
   ]
  },
  {
   "cell_type": "code",
   "execution_count": 74,
   "id": "d1ae949e",
   "metadata": {},
   "outputs": [
    {
     "data": {
      "text/html": [
       "<div>\n",
       "<style scoped>\n",
       "    .dataframe tbody tr th:only-of-type {\n",
       "        vertical-align: middle;\n",
       "    }\n",
       "\n",
       "    .dataframe tbody tr th {\n",
       "        vertical-align: top;\n",
       "    }\n",
       "\n",
       "    .dataframe thead th {\n",
       "        text-align: right;\n",
       "    }\n",
       "</style>\n",
       "<table border=\"1\" class=\"dataframe\">\n",
       "  <thead>\n",
       "    <tr style=\"text-align: right;\">\n",
       "      <th></th>\n",
       "      <th>Move Minutes count</th>\n",
       "      <th>Distance (m)</th>\n",
       "      <th>Step count</th>\n",
       "      <th>Efficiency</th>\n",
       "    </tr>\n",
       "  </thead>\n",
       "  <tbody>\n",
       "    <tr>\n",
       "      <th>0</th>\n",
       "      <td>7.0</td>\n",
       "      <td>425.324791</td>\n",
       "      <td>643.0</td>\n",
       "      <td>0.661469</td>\n",
       "    </tr>\n",
       "    <tr>\n",
       "      <th>1</th>\n",
       "      <td>2.0</td>\n",
       "      <td>45.950287</td>\n",
       "      <td>86.0</td>\n",
       "      <td>0.534306</td>\n",
       "    </tr>\n",
       "    <tr>\n",
       "      <th>4</th>\n",
       "      <td>39.0</td>\n",
       "      <td>2471.957810</td>\n",
       "      <td>3232.0</td>\n",
       "      <td>0.764838</td>\n",
       "    </tr>\n",
       "    <tr>\n",
       "      <th>5</th>\n",
       "      <td>78.0</td>\n",
       "      <td>5588.999130</td>\n",
       "      <td>7000.0</td>\n",
       "      <td>0.798428</td>\n",
       "    </tr>\n",
       "    <tr>\n",
       "      <th>6</th>\n",
       "      <td>65.0</td>\n",
       "      <td>4894.932785</td>\n",
       "      <td>5924.0</td>\n",
       "      <td>0.826288</td>\n",
       "    </tr>\n",
       "    <tr>\n",
       "      <th>...</th>\n",
       "      <td>...</td>\n",
       "      <td>...</td>\n",
       "      <td>...</td>\n",
       "      <td>...</td>\n",
       "    </tr>\n",
       "    <tr>\n",
       "      <th>121</th>\n",
       "      <td>45.0</td>\n",
       "      <td>2992.708406</td>\n",
       "      <td>3942.0</td>\n",
       "      <td>0.759185</td>\n",
       "    </tr>\n",
       "    <tr>\n",
       "      <th>122</th>\n",
       "      <td>28.0</td>\n",
       "      <td>1583.820026</td>\n",
       "      <td>2109.0</td>\n",
       "      <td>0.750982</td>\n",
       "    </tr>\n",
       "    <tr>\n",
       "      <th>123</th>\n",
       "      <td>17.0</td>\n",
       "      <td>951.514577</td>\n",
       "      <td>1301.0</td>\n",
       "      <td>0.731372</td>\n",
       "    </tr>\n",
       "    <tr>\n",
       "      <th>124</th>\n",
       "      <td>128.0</td>\n",
       "      <td>8855.826503</td>\n",
       "      <td>11524.0</td>\n",
       "      <td>0.768468</td>\n",
       "    </tr>\n",
       "    <tr>\n",
       "      <th>125</th>\n",
       "      <td>41.0</td>\n",
       "      <td>2598.551218</td>\n",
       "      <td>3396.0</td>\n",
       "      <td>0.765180</td>\n",
       "    </tr>\n",
       "  </tbody>\n",
       "</table>\n",
       "<p>122 rows × 4 columns</p>\n",
       "</div>"
      ],
      "text/plain": [
       "     Move Minutes count  Distance (m)  Step count  Efficiency\n",
       "0                   7.0    425.324791       643.0    0.661469\n",
       "1                   2.0     45.950287        86.0    0.534306\n",
       "4                  39.0   2471.957810      3232.0    0.764838\n",
       "5                  78.0   5588.999130      7000.0    0.798428\n",
       "6                  65.0   4894.932785      5924.0    0.826288\n",
       "..                  ...           ...         ...         ...\n",
       "121                45.0   2992.708406      3942.0    0.759185\n",
       "122                28.0   1583.820026      2109.0    0.750982\n",
       "123                17.0    951.514577      1301.0    0.731372\n",
       "124               128.0   8855.826503     11524.0    0.768468\n",
       "125                41.0   2598.551218      3396.0    0.765180\n",
       "\n",
       "[122 rows x 4 columns]"
      ]
     },
     "execution_count": 74,
     "metadata": {},
     "output_type": "execute_result"
    }
   ],
   "source": [
    "wak_eff"
   ]
  },
  {
   "cell_type": "code",
   "execution_count": 75,
   "id": "cd225287",
   "metadata": {},
   "outputs": [
    {
     "data": {
      "text/plain": [
       "Text(0.5, 0, 'Time')"
      ]
     },
     "execution_count": 75,
     "metadata": {},
     "output_type": "execute_result"
    },
    {
     "data": {
      "image/png": "[encoded data removed]",
      "text/plain": [
       "<Figure size 1000x500 with 1 Axes>"
      ]
     },
     "metadata": {},
     "output_type": "display_data"
    }
   ],
   "source": [
    "#Walking Effinency over time\n",
    "\n",
    "sns.lineplot(wak_eff, x='Move Minutes count', y='Efficiency', color=\"#800080\")\n",
    "plt.title(\"Walking Efficiency over time\")\n",
    "plt.xlabel('Time')"
   ]
  },
  {
   "cell_type": "code",
   "execution_count": 76,
   "id": "3a725914",
   "metadata": {},
   "outputs": [
    {
     "data": {
      "text/plain": [
       "<Axes: xlabel='Calories (kcal)', ylabel='Average speed (m/s)'>"
      ]
     },
     "execution_count": 76,
     "metadata": {},
     "output_type": "execute_result"
    },
    {
     "data": {
      "image/png": "[encoded data removed]",
      "text/plain": [
       "<Figure size 1000x500 with 1 Axes>"
      ]
     },
     "metadata": {},
     "output_type": "display_data"
    }
   ],
   "source": [
    "sns.lineplot(df, x='Calories (kcal)', y='Average speed (m/s)')"
   ]
  }
 ],
 "metadata": {
  "kernelspec": {
   "display_name": "Python 3",
   "language": "python",
   "name": "python3"
  },
  "language_info": {
   "codemirror_mode": {
    "name": "ipython",
    "version": 3
   },
   "file_extension": ".py",
   "mimetype": "text/x-python",
   "name": "python",
   "nbconvert_exporter": "python",
   "pygments_lexer": "ipython3",
   "version": "3.11.2"
  }
 },
 "nbformat": 4,
 "nbformat_minor": 5
}
